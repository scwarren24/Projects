{
 "cells": [
  {
   "cell_type": "code",
   "execution_count": 1,
   "id": "6dbdca21",
   "metadata": {},
   "outputs": [
    {
     "name": "stderr",
     "output_type": "stream",
     "text": [
      "C:\\Users\\scwvi\\AppData\\Local\\Temp\\ipykernel_21548\\161982774.py:12: FutureWarning: Passing literal html to 'read_html' is deprecated and will be removed in a future version. To read from a literal string, wrap it in a 'StringIO' object.\n",
      "  df = pd.read_html(table)[0]\n",
      "C:\\Users\\scwvi\\AppData\\Local\\Temp\\ipykernel_21548\\161982774.py:17: SettingWithCopyWarning: \n",
      "A value is trying to be set on a copy of a slice from a DataFrame.\n",
      "Try using .loc[row_indexer,col_indexer] = value instead\n",
      "\n",
      "See the caveats in the documentation: https://pandas.pydata.org/pandas-docs/stable/user_guide/indexing.html#returning-a-view-versus-a-copy\n",
      "  df_filtered[\"TeamH\"] = df_filtered.columns[6]\n",
      "C:\\Users\\scwvi\\AppData\\Local\\Temp\\ipykernel_21548\\161982774.py:18: SettingWithCopyWarning: \n",
      "A value is trying to be set on a copy of a slice from a DataFrame.\n",
      "Try using .loc[row_indexer,col_indexer] = value instead\n",
      "\n",
      "See the caveats in the documentation: https://pandas.pydata.org/pandas-docs/stable/user_guide/indexing.html#returning-a-view-versus-a-copy\n",
      "  df_filtered[\"TeamA\"] = df_filtered.columns[5]\n",
      "C:\\Users\\scwvi\\AppData\\Local\\Temp\\ipykernel_21548\\161982774.py:19: SettingWithCopyWarning: \n",
      "A value is trying to be set on a copy of a slice from a DataFrame\n",
      "\n",
      "See the caveats in the documentation: https://pandas.pydata.org/pandas-docs/stable/user_guide/indexing.html#returning-a-view-versus-a-copy\n",
      "  df_filtered.rename(columns={df_filtered.columns[5]: 'Away', df_filtered.columns[6]: 'Home'}, inplace=True)\n",
      "C:\\Users\\scwvi\\AppData\\Local\\Temp\\ipykernel_21548\\161982774.py:12: FutureWarning: Passing literal html to 'read_html' is deprecated and will be removed in a future version. To read from a literal string, wrap it in a 'StringIO' object.\n",
      "  df = pd.read_html(table)[0]\n",
      "C:\\Users\\scwvi\\AppData\\Local\\Temp\\ipykernel_21548\\161982774.py:17: SettingWithCopyWarning: \n",
      "A value is trying to be set on a copy of a slice from a DataFrame.\n",
      "Try using .loc[row_indexer,col_indexer] = value instead\n",
      "\n",
      "See the caveats in the documentation: https://pandas.pydata.org/pandas-docs/stable/user_guide/indexing.html#returning-a-view-versus-a-copy\n",
      "  df_filtered[\"TeamH\"] = df_filtered.columns[6]\n",
      "C:\\Users\\scwvi\\AppData\\Local\\Temp\\ipykernel_21548\\161982774.py:18: SettingWithCopyWarning: \n",
      "A value is trying to be set on a copy of a slice from a DataFrame.\n",
      "Try using .loc[row_indexer,col_indexer] = value instead\n",
      "\n",
      "See the caveats in the documentation: https://pandas.pydata.org/pandas-docs/stable/user_guide/indexing.html#returning-a-view-versus-a-copy\n",
      "  df_filtered[\"TeamA\"] = df_filtered.columns[5]\n",
      "C:\\Users\\scwvi\\AppData\\Local\\Temp\\ipykernel_21548\\161982774.py:19: SettingWithCopyWarning: \n",
      "A value is trying to be set on a copy of a slice from a DataFrame\n",
      "\n",
      "See the caveats in the documentation: https://pandas.pydata.org/pandas-docs/stable/user_guide/indexing.html#returning-a-view-versus-a-copy\n",
      "  df_filtered.rename(columns={df_filtered.columns[5]: 'Away', df_filtered.columns[6]: 'Home'}, inplace=True)\n",
      "C:\\Users\\scwvi\\AppData\\Local\\Temp\\ipykernel_21548\\161982774.py:12: FutureWarning: Passing literal html to 'read_html' is deprecated and will be removed in a future version. To read from a literal string, wrap it in a 'StringIO' object.\n",
      "  df = pd.read_html(table)[0]\n",
      "C:\\Users\\scwvi\\AppData\\Local\\Temp\\ipykernel_21548\\161982774.py:17: SettingWithCopyWarning: \n",
      "A value is trying to be set on a copy of a slice from a DataFrame.\n",
      "Try using .loc[row_indexer,col_indexer] = value instead\n",
      "\n",
      "See the caveats in the documentation: https://pandas.pydata.org/pandas-docs/stable/user_guide/indexing.html#returning-a-view-versus-a-copy\n",
      "  df_filtered[\"TeamH\"] = df_filtered.columns[6]\n",
      "C:\\Users\\scwvi\\AppData\\Local\\Temp\\ipykernel_21548\\161982774.py:18: SettingWithCopyWarning: \n",
      "A value is trying to be set on a copy of a slice from a DataFrame.\n",
      "Try using .loc[row_indexer,col_indexer] = value instead\n",
      "\n",
      "See the caveats in the documentation: https://pandas.pydata.org/pandas-docs/stable/user_guide/indexing.html#returning-a-view-versus-a-copy\n",
      "  df_filtered[\"TeamA\"] = df_filtered.columns[5]\n",
      "C:\\Users\\scwvi\\AppData\\Local\\Temp\\ipykernel_21548\\161982774.py:19: SettingWithCopyWarning: \n",
      "A value is trying to be set on a copy of a slice from a DataFrame\n",
      "\n",
      "See the caveats in the documentation: https://pandas.pydata.org/pandas-docs/stable/user_guide/indexing.html#returning-a-view-versus-a-copy\n",
      "  df_filtered.rename(columns={df_filtered.columns[5]: 'Away', df_filtered.columns[6]: 'Home'}, inplace=True)\n"
     ]
    }
   ],
   "source": [
    "import requests\n",
    "import pandas as pd\n",
    "from bs4 import BeautifulSoup, Comment\n",
    "\n",
    "\n",
    "def getData(GameId):\n",
    "    url = f'https://www.pro-football-reference.com/boxscores/{GameId}.htm'\n",
    "    req = requests.get(url).text\n",
    "    bs = BeautifulSoup(req).find(id='all_pbp')\n",
    "    comments = bs.find_all(string=lambda text: isinstance(text, Comment))\n",
    "    table = [c for c in comments if len(c) > 10000][0]\n",
    "    df = pd.read_html(table)[0]\n",
    "\n",
    "\n",
    "    df_filtered = df[df['Quarter'].isin([\"1\",\"2\",\"3\",\"4\"])]\n",
    "    df_filtered.columns\n",
    "    df_filtered[\"TeamH\"] = df_filtered.columns[6]\n",
    "    df_filtered[\"TeamA\"] = df_filtered.columns[5]\n",
    "    df_filtered.rename(columns={df_filtered.columns[5]: 'Away', df_filtered.columns[6]: 'Home'}, inplace=True)\n",
    "    \n",
    "    return df_filtered\n",
    "\n",
    "#phi = getData(\"202411140phi\")\n",
    "#chi = getData(\"202411170chi\")\n",
    "det = getData(\"202411170det\")\n",
    "#mia = getData(\"202411170mia\")\n",
    "#nor = getData(\"202411170nor\")\n",
    "nwe = getData(\"202411170nwe\")\n",
    "nyj = getData(\"202411170nyj\")\n",
    "\n",
    "df_combined = pd.concat([nyj,det,nwe], ignore_index=True)\n"
   ]
  },
  {
   "cell_type": "code",
   "execution_count": 1,
   "id": "facaaa43",
   "metadata": {},
   "outputs": [],
   "source": [
    "#df_combined"
   ]
  },
  {
   "cell_type": "code",
   "execution_count": 3,
   "id": "be7524ae",
   "metadata": {
    "scrolled": true
   },
   "outputs": [
    {
     "name": "stdout",
     "output_type": "stream",
     "text": [
      "Requirement already satisfied: openai in c:\\users\\scwvi\\anaconda3\\lib\\site-packages (1.54.4)\n",
      "Requirement already satisfied: anyio<5,>=3.5.0 in c:\\users\\scwvi\\anaconda3\\lib\\site-packages (from openai) (4.2.0)\n",
      "Requirement already satisfied: distro<2,>=1.7.0 in c:\\users\\scwvi\\anaconda3\\lib\\site-packages (from openai) (1.9.0)\n",
      "Requirement already satisfied: httpx<1,>=0.23.0 in c:\\users\\scwvi\\anaconda3\\lib\\site-packages (from openai) (0.27.2)\n",
      "Requirement already satisfied: jiter<1,>=0.4.0 in c:\\users\\scwvi\\anaconda3\\lib\\site-packages (from openai) (0.7.1)\n",
      "Requirement already satisfied: pydantic<3,>=1.9.0 in c:\\users\\scwvi\\anaconda3\\lib\\site-packages (from openai) (2.5.3)\n",
      "Requirement already satisfied: sniffio in c:\\users\\scwvi\\anaconda3\\lib\\site-packages (from openai) (1.3.0)\n",
      "Requirement already satisfied: tqdm>4 in c:\\users\\scwvi\\anaconda3\\lib\\site-packages (from openai) (4.66.4)\n",
      "Requirement already satisfied: typing-extensions<5,>=4.11 in c:\\users\\scwvi\\anaconda3\\lib\\site-packages (from openai) (4.11.0)\n",
      "Requirement already satisfied: idna>=2.8 in c:\\users\\scwvi\\anaconda3\\lib\\site-packages (from anyio<5,>=3.5.0->openai) (3.7)\n",
      "Requirement already satisfied: certifi in c:\\users\\scwvi\\anaconda3\\lib\\site-packages (from httpx<1,>=0.23.0->openai) (2024.6.2)\n",
      "Requirement already satisfied: httpcore==1.* in c:\\users\\scwvi\\anaconda3\\lib\\site-packages (from httpx<1,>=0.23.0->openai) (1.0.7)\n",
      "Requirement already satisfied: h11<0.15,>=0.13 in c:\\users\\scwvi\\anaconda3\\lib\\site-packages (from httpcore==1.*->httpx<1,>=0.23.0->openai) (0.14.0)\n",
      "Requirement already satisfied: annotated-types>=0.4.0 in c:\\users\\scwvi\\anaconda3\\lib\\site-packages (from pydantic<3,>=1.9.0->openai) (0.6.0)\n",
      "Requirement already satisfied: pydantic-core==2.14.6 in c:\\users\\scwvi\\anaconda3\\lib\\site-packages (from pydantic<3,>=1.9.0->openai) (2.14.6)\n",
      "Requirement already satisfied: colorama in c:\\users\\scwvi\\anaconda3\\lib\\site-packages (from tqdm>4->openai) (0.4.6)\n"
     ]
    }
   ],
   "source": [
    "# Install openai python library\n",
    "! pip install openai\n",
    "import info"
   ]
  },
  {
   "cell_type": "code",
   "execution_count": null,
   "id": "38626fc0",
   "metadata": {},
   "outputs": [],
   "source": [
    "import os\n",
    "import info\n",
    "os.environ[\"OPENAI_API_KEY\"]= info.key\n",
    "os.environ[\"OPENAI_ORG\"] = info.org\n",
    "os.environ[\"OPENAI_PROJ\"] = info.proj"
   ]
  },
  {
   "cell_type": "code",
   "execution_count": 5,
   "id": "0edc5b42",
   "metadata": {},
   "outputs": [],
   "source": [
    "# Read authentication keys from environmental variables\n",
    "\n",
    "\n",
    "_open_ai_tkn = os.environ.get(\"OPENAI_API_KEY\")\n",
    "_project_tkn = os.environ.get(\"OPENAI_PROJ\")\n",
    "_organisation_tkn = os.environ.get(\"OPENAI_ORG\")\n",
    "if not _open_ai_tkn:\n",
    "    raise ValueError(\"API key is missing. Ensure OPENAI_API_KEY is set in the environment variables.\")"
   ]
  },
  {
   "cell_type": "code",
   "execution_count": 6,
   "id": "2bd668ab",
   "metadata": {
    "scrolled": true
   },
   "outputs": [],
   "source": [
    "# create client endpoint for accessing remote LLM\n",
    "from openai import OpenAI\n",
    "\n",
    "client = OpenAI(\n",
    "  organization=_organisation_tkn,\n",
    "  project=_project_tkn,\n",
    "  api_key=_open_ai_tkn\n",
    ")"
   ]
  },
  {
   "cell_type": "code",
   "execution_count": 7,
   "id": "e35b55c5",
   "metadata": {
    "scrolled": true
   },
   "outputs": [],
   "source": [
    "# Making a request\n",
    "promptResults = []\n",
    "for i in range(0,len(df_combined)):\n",
    "#for i in range(0,10):\n",
    "    awayS = df_combined.loc[i, 'Away']\n",
    "    homeS = df_combined.loc[i, 'Home']\n",
    "    awayT = df_combined.loc[i, 'TeamA']\n",
    "    homeT = df_combined.loc[i, 'TeamH']\n",
    "    time = df_combined.loc[i, 'Time']\n",
    "    down = df_combined.loc[i, 'Down']\n",
    "    togo = df_combined.loc[i, 'ToGo']\n",
    "    play = df_combined.loc[i, 'Detail']\n",
    "    quarter = df_combined.loc[i, 'Quarter']\n",
    "    if down == None:\n",
    "        down = \"\"\n",
    "    elif down == 1:\n",
    "        down = \"1st\"\n",
    "    elif down == 2:\n",
    "        down = \"2nd\"\n",
    "    elif down == 3:\n",
    "        down = \"3rd\"\n",
    "    elif down == 4:\n",
    "        down = \"4th\"    \n",
    "    \n",
    "    location = df_combined.loc[i, 'Location']\n",
    "\n",
    "    response = client.chat.completions.create(\n",
    "        messages=[{\n",
    "            \"role\": \"user\",\n",
    "            \"content\": f\"Give realistic, short and concise commentary for this play. Use no outside context, and just this information. Make sure all information in commentary matches the information given. Respond only with the commentary. Quarter {quarter}, {time} time left, {down} down, {togo} yards to go at {location}. Score: {homeT}:{homeS}, {awayT}:{awayS}. Play: {play}\"\n",
    "        }],\n",
    "        model=\"gpt-4o-mini\",\n",
    "        max_completion_tokens=1000\n",
    "    )\n",
    "    promptResults.append((response.choices[0].message.content,f\"Quarter:{quarter}, Time:{time}, Down:{down}, Yards to go:{togo}, At:{location}. Score: {homeT}:{homeS}, {awayT}:{awayS}. Play:{play}\"))"
   ]
  },
  {
   "cell_type": "code",
   "execution_count": 2,
   "id": "32920186",
   "metadata": {
    "scrolled": true
   },
   "outputs": [],
   "source": [
    "#for i in range(0,10):\n",
    "    #print(promptResults[i])\n",
    "    #print(promptResults)"
   ]
  },
  {
   "cell_type": "code",
   "execution_count": 12,
   "id": "f44d19a4",
   "metadata": {
    "scrolled": true
   },
   "outputs": [],
   "source": [
    "#print(len(promptResults))\n",
    "df_toview = pd.DataFrame(promptResults,columns=[\"Playcall\", \"Information\"])\n",
    "df_toview\n",
    "\n",
    "df_toview.to_csv(\"AIcommentary.csv\")\n"
   ]
  }
 ],
 "metadata": {
  "kernelspec": {
   "display_name": "base",
   "language": "python",
   "name": "python3"
  },
  "language_info": {
   "codemirror_mode": {
    "name": "ipython",
    "version": 3
   },
   "file_extension": ".py",
   "mimetype": "text/x-python",
   "name": "python",
   "nbconvert_exporter": "python",
   "pygments_lexer": "ipython3",
   "version": "3.12.4"
  }
 },
 "nbformat": 4,
 "nbformat_minor": 5
}
